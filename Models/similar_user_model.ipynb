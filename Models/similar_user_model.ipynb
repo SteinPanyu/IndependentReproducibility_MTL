{
 "cells": [
  {
   "cell_type": "code",
   "execution_count": 1,
   "metadata": {},
   "outputs": [],
   "source": [
    "import pytz\n",
    "import os\n",
    "\n",
    "\n",
    "DEFAULT_TZ = pytz.FixedOffset(540)  # GMT+09:00; Asia/Seoul\n",
    "\n",
    "PATH_DATA = 'data/D'\n",
    "PATH_ESM = os.path.join(PATH_DATA, 'EsmResponse.csv')\n",
    "PATH_PARTICIPANT = os.path.join(PATH_DATA, 'UserInfo.csv')\n",
    "PATH_SENSOR = os.path.join(PATH_DATA, 'Sensor')\n",
    "\n",
    "PATH_INTERMEDIATE = os.path.join('/home/uzair/Stress/StressDetection_Collaboration/Data_Processing_D1/data/intermediate')\n",
    "RANDOM_STATE = 42"
   ]
  },
  {
   "cell_type": "code",
   "execution_count": 2,
   "metadata": {},
   "outputs": [],
   "source": [
    "import pandas as pd\n",
    "import numpy as np\n",
    "import scipy.stats as st\n",
    "import cloudpickle\n",
    "import ray\n",
    "from datetime import datetime\n",
    "from contextlib import contextmanager\n",
    "import warnings\n",
    "import time\n",
    "\n",
    "\n",
    "def load(path: str):\n",
    "    with open(path, mode='rb') as f:\n",
    "        return cloudpickle.load(f)\n",
    "\n",
    "    \n",
    "def dump(obj, path: str):\n",
    "    with open(path, mode='wb') as f:\n",
    "        cloudpickle.dump(obj, f)\n",
    "        \n",
    "    \n",
    "def log(msg: any):\n",
    "    print('[{}] {}'.format(datetime.now().strftime('%y-%m-%d %H:%M:%S'), msg))\n",
    "\n",
    "\n",
    "def summary(x):\n",
    "    x = np.asarray(x)\n",
    "    with warnings.catch_warnings():\n",
    "        warnings.simplefilter('ignore')\n",
    "\n",
    "        n = len(x)\n",
    "        # Here, uppercase np.dtype.kind corresponds to non-numeric data.\n",
    "        # Also, we view the boolean data as dichotomous categorical data.\n",
    "        if x.dtype.kind.isupper() or x.dtype.kind == 'b': \n",
    "            cnt = pd.Series(x).value_counts(dropna=False)\n",
    "            card = len(cnt)\n",
    "            cnt = cnt[:20]                \n",
    "            cnt_str = ', '.join([f'{u}:{c}' for u, c in zip(cnt.index, cnt)])\n",
    "            if card > 30:\n",
    "                cnt_str = f'{cnt_str}, ...'\n",
    "            return {\n",
    "                'n': n,\n",
    "                'cardinality': card,\n",
    "                'value_count': cnt_str\n",
    "            }\n",
    "        else: \n",
    "            x_nan = x[np.isnan(x)]\n",
    "            x_norm = x[~np.isnan(x)]\n",
    "            \n",
    "            tot = np.sum(x_norm)\n",
    "            m = np.mean(x_norm)\n",
    "            me = np.median(x_norm)\n",
    "            s = np.std(x_norm, ddof=1)\n",
    "            l, u = np.min(x_norm), np.max(x)\n",
    "            conf_l, conf_u = st.t.interval(0.95, len(x_norm) - 1, loc=m, scale=st.sem(x_norm))\n",
    "            n_nan = len(x_nan)\n",
    "            \n",
    "            return {\n",
    "                'n': n,\n",
    "                'sum': tot,\n",
    "                'mean': m,\n",
    "                'SD': s,\n",
    "                'med': me,\n",
    "                'range': (l, u),\n",
    "                'conf.': (conf_l, conf_u),\n",
    "                'nan_count': n_nan\n",
    "            }"
   ]
  },
  {
   "cell_type": "code",
   "execution_count": 3,
   "metadata": {},
   "outputs": [],
   "source": [
    "p = os.path.join(PATH_INTERMEDIATE, 'stress-fixed.pkl')\n",
    "X, y, groups, t, datetimes = load(p)"
   ]
  },
  {
   "cell_type": "code",
   "execution_count": 4,
   "metadata": {},
   "outputs": [],
   "source": [
    "PARTICIPANTS = pd.read_csv(os.path.join(PATH_INTERMEDIATE, 'PARTICIPANT_INFO.csv'),index_col = 'pcode')\n",
    "PINFO = PARTICIPANTS.assign(\n",
    "    BFI_OPN=lambda x: x['openness'],\n",
    "    BFI_CON=lambda x: x['conscientiousness'],\n",
    "    BFI_NEU=lambda x: x['neuroticism'],\n",
    "    BFI_EXT=lambda x: x['extraversion'],\n",
    "    BFI_AGR=lambda x: x['agreeableness'],\n",
    ")[[\n",
    "    'BFI_OPN', 'BFI_CON', 'BFI_NEU', 'BFI_EXT', 'BFI_AGR'\n",
    "]]\n",
    "PINFO = pd.get_dummies(PINFO, prefix_sep='=', dtype=bool)"
   ]
  },
  {
   "cell_type": "code",
   "execution_count": 5,
   "metadata": {},
   "outputs": [],
   "source": [
    "LABELS_PROC = pd.read_csv(os.path.join(PATH_INTERMEDIATE, 'LABELS_PROC.csv'), index_col=['pcode','timestamp'],parse_dates=True)"
   ]
  },
  {
   "cell_type": "code",
   "execution_count": 6,
   "metadata": {},
   "outputs": [
    {
     "name": "stdout",
     "output_type": "stream",
     "text": [
      "First timestamp: 2019-04-30 10:03:28+09:00\n",
      "Last timestamp: 2019-05-22 22:02:03+09:00\n"
     ]
    }
   ],
   "source": [
    "_df =LABELS_PROC\n",
    "_df.reset_index(level='timestamp', inplace=True)\n",
    "print('First timestamp:', _df['timestamp'].min())\n",
    "print('Last timestamp:', _df['timestamp'].max())"
   ]
  },
  {
   "cell_type": "code",
   "execution_count": 7,
   "metadata": {},
   "outputs": [],
   "source": [
    "time_ranges = _df.groupby('pcode')['timestamp'].agg(['min', 'max'])"
   ]
  },
  {
   "cell_type": "code",
   "execution_count": 8,
   "metadata": {},
   "outputs": [],
   "source": [
    "list_pid = set(LABELS_PROC.index.get_level_values('pcode').values)"
   ]
  },
  {
   "cell_type": "code",
   "execution_count": 9,
   "metadata": {},
   "outputs": [],
   "source": [
    "PINFO_valid = PINFO.loc[PINFO.index.isin(list_pid)]"
   ]
  },
  {
   "cell_type": "code",
   "execution_count": 10,
   "metadata": {},
   "outputs": [],
   "source": [
    "#Divide the features into different categories\n",
    "feat_current = X.loc[:,[('#VAL' in str(x)) or ('ESM#LastLabel' in str(x)) for x in X.keys()]]  \n",
    "feat_dsc = X.loc[:,[('#DSC' in str(x))  for x in X.keys()]]  \n",
    "feat_yesterday = X.loc[:,[('Yesterday' in str(x))  for x in X.keys()]]  \n",
    "feat_today = X.loc[:,[('Today' in str(x))  for x in X.keys()]]  \n",
    "feat_sleep = X.loc[:,[('Sleep' in str(x))  for x in X.keys()]]  \n",
    "feat_time = X.loc[:,[('Time' in str(x))  for x in X.keys()]]  \n",
    "feat_pif = X.loc[:,[('PIF' in str(x))  for x in X.keys()]]  \n",
    "feat_ImmediatePast = X.loc[:,[('ImmediatePast_15' in str(x))  for x in X.keys()]]\n",
    "#Divide the time window features into sensor/past stress label\n",
    "feat_current_sensor = X.loc[:,[('#VAL' in str(x))  for x in X.keys()]]  \n",
    "feat_current_ESM = X.loc[:,[('ESM#LastLabel' in str(x)) for x in X.keys()]]  \n",
    "feat_ImmediatePast_sensor = feat_ImmediatePast.loc[:,[('ESM' not in str(x)) for x in feat_ImmediatePast.keys()]]  \n",
    "feat_ImmediatePast_ESM = feat_ImmediatePast.loc[:,[('ESM'  in str(x)) for x in feat_ImmediatePast.keys()]]  \n",
    "feat_today_sensor = feat_today.loc[:,[('ESM' not in str(x))  for x in feat_today.keys()]]  \n",
    "feat_today_ESM = feat_today.loc[:,[('ESM'  in str(x)) for x in feat_today.keys()]]  \n",
    "feat_yesterday_sensor = feat_yesterday.loc[:,[('ESM' not in str(x)) for x in feat_yesterday.keys()]]  \n",
    "feat_yesterday_ESM = feat_yesterday.loc[:,[('ESM'  in str(x)) for x in feat_yesterday.keys()]]\n",
    "feat_baseline = pd.concat([ feat_time,feat_dsc,feat_current_sensor, feat_ImmediatePast_sensor],axis=1)\n",
    "feat_final = pd.concat([feat_baseline  ], axis=1)\n",
    "X = feat_final\n",
    "cats = X.columns[X.dtypes == bool]"
   ]
  },
  {
   "cell_type": "code",
   "execution_count": 11,
   "metadata": {},
   "outputs": [],
   "source": [
    "similar_user = pd.read_csv(os.path.join(PATH_INTERMEDIATE,  'similar_user_3.csv'))"
   ]
  },
  {
   "cell_type": "code",
   "execution_count": 12,
   "metadata": {},
   "outputs": [],
   "source": [
    "import pandas as pd\n",
    "\n",
    "# Convert groups to a pandas DataFrame\n",
    "groups_df = pd.DataFrame(groups, columns=['pcode'])\n",
    "\n",
    "# Ensure the data types of the 'pcode' and 'pcode' columns are the same\n",
    "groups_df['pcode'] = groups_df['pcode'].astype(str)\n",
    "similar_user['pcode'] = similar_user['pcode'].astype(str)\n",
    "\n",
    "# Create a new Series that maps Pcode to cluster label\n",
    "cluster_map = similar_user.set_index('pcode')['cluster']\n",
    "\n",
    "# Create the 'cluster' column in the 'groups' DataFrame\n",
    "groups_df['cluster'] = groups_df['pcode'].map(cluster_map)"
   ]
  },
  {
   "cell_type": "code",
   "execution_count": 13,
   "metadata": {},
   "outputs": [
    {
     "data": {
      "text/plain": [
       "pcode\n",
       "P01    2\n",
       "P02    0\n",
       "P03    2\n",
       "P05    0\n",
       "P06    1\n",
       "Name: cluster, dtype: int64"
      ]
     },
     "execution_count": 13,
     "metadata": {},
     "output_type": "execute_result"
    }
   ],
   "source": [
    "cluster_map.head()"
   ]
  },
  {
   "cell_type": "code",
   "execution_count": 14,
   "metadata": {},
   "outputs": [],
   "source": [
    "# Create a dictionary to store data structures for each cluster\n",
    "clusters = {}\n",
    "\n",
    "# Loop through each unique cluster label in the Series\n",
    "for cluster_label in cluster_map.unique():\n",
    "    clusters[cluster_label] = cluster_map[cluster_map == cluster_label]"
   ]
  },
  {
   "cell_type": "code",
   "execution_count": 15,
   "metadata": {},
   "outputs": [],
   "source": [
    "# XGBoost parameters\n",
    "param = {\n",
    "    \"learning_rate\": 0.01,\n",
    "    \"seed\": RANDOM_STATE,\n",
    "    \"objective\": 'binary:logistic',\n",
    "    'eval_metric': 'auc',\n",
    "    'verbosity': 0,\n",
    "}"
   ]
  },
  {
   "cell_type": "code",
   "execution_count": 16,
   "metadata": {},
   "outputs": [],
   "source": [
    "import os\n",
    "import pandas as pd\n",
    "import numpy as np\n",
    "from sklearn.model_selection import LeaveOneGroupOut\n",
    "from sklearn.feature_selection import SelectFromModel\n",
    "from sklearn.linear_model import LogisticRegression\n",
    "from sklearn.svm import LinearSVC\n",
    "from imblearn.over_sampling import SMOTENC, SMOTE\n",
    "from tqdm import tqdm\n",
    "from sklearn.model_selection import StratifiedGroupKFold, GroupKFold, KFold, TimeSeriesSplit, LeavePGroupsOut, train_test_split, GroupShuffleSplit\n",
    "from sklearn.preprocessing import StandardScaler, OrdinalEncoder, OneHotEncoder"
   ]
  },
  {
   "cell_type": "code",
   "execution_count": 17,
   "metadata": {},
   "outputs": [],
   "source": [
    "from sklearn.feature_selection import SelectFromModel\n",
    "from sklearn.linear_model import LogisticRegression\n",
    "from sklearn.base import clone\n",
    "\n",
    "normalize =True\n",
    "# Feature selection method\n",
    "selector = SelectFromModel(\n",
    "        estimator=LogisticRegression(penalty='l1', solver='liblinear', C=1, random_state=RANDOM_STATE, max_iter=4000),\n",
    "        threshold=0.005\n",
    "#         estimator=LinearSVC(\n",
    "#         penalty='l1',\n",
    "#         loss='squared_hinge',\n",
    "#         dual=False,\n",
    "#         tol=1e-3,\n",
    "#         C=1e-2,\n",
    "#         max_iter=5000,\n",
    "#         random_state=RANDOM_STATE\n",
    "#     )  \n",
    "    )\n",
    "select = [clone(selector)]\n",
    "oversample = True"
   ]
  },
  {
   "cell_type": "code",
   "execution_count": 18,
   "metadata": {},
   "outputs": [],
   "source": [
    "C_cat = np.asarray(sorted(cats))\n",
    "C_num = np.asarray(sorted(X.columns[~X.columns.isin(C_cat)]))"
   ]
  },
  {
   "cell_type": "code",
   "execution_count": 19,
   "metadata": {},
   "outputs": [],
   "source": [
    "def process_dataframe(X):\n",
    "    \"\"\"\n",
    "    Process the input DataFrame 'X':\n",
    "    1. Set column names as a range from 0 to the number of columns.\n",
    "    2. Replace boolean values with 1 for True and 0 for False.\n",
    "\n",
    "    Parameters:\n",
    "        X (pandas.DataFrame): The input DataFrame.\n",
    "\n",
    "    Returns:\n",
    "        pandas.DataFrame: The processed DataFrame.\n",
    "    \"\"\"\n",
    "    # Set column names as a range from 0 to the number of columns\n",
    "    X.columns = range(X.shape[1])"
   ]
  },
  {
   "cell_type": "code",
   "execution_count": 20,
   "metadata": {
    "scrolled": true
   },
   "outputs": [
    {
     "name": "stdout",
     "output_type": "stream",
     "text": [
      "[0]\ttrain-auc:0.92807\teval-auc:0.60777\n",
      "[1]\ttrain-auc:0.93969\teval-auc:0.61953\n",
      "[2]\ttrain-auc:0.94410\teval-auc:0.61953\n",
      "[3]\ttrain-auc:0.94504\teval-auc:0.61305\n",
      "[4]\ttrain-auc:0.94429\teval-auc:0.60566\n",
      "[5]\ttrain-auc:0.94554\teval-auc:0.61463\n",
      "[6]\ttrain-auc:0.94634\teval-auc:0.61780\n",
      "[7]\ttrain-auc:0.94733\teval-auc:0.62149\n",
      "[8]\ttrain-auc:0.94776\teval-auc:0.62044\n",
      "[9]\ttrain-auc:0.94754\teval-auc:0.62059\n"
     ]
    },
    {
     "name": "stderr",
     "output_type": "stream",
     "text": [
      "/home/uzair/miniconda3/envs/sci-data/lib/python3.9/site-packages/xgboost/core.py:122: UserWarning: ntree_limit is deprecated, use `iteration_range` or model slicing instead.\n",
      "  warnings.warn(\n"
     ]
    },
    {
     "name": "stdout",
     "output_type": "stream",
     "text": [
      "[0]\ttrain-auc:0.89803\teval-auc:0.64808\n",
      "[1]\ttrain-auc:0.89888\teval-auc:0.64631\n",
      "[2]\ttrain-auc:0.90081\teval-auc:0.64123\n",
      "[3]\ttrain-auc:0.90026\teval-auc:0.64385\n",
      "[4]\ttrain-auc:0.90217\teval-auc:0.64192\n",
      "[5]\ttrain-auc:0.90210\teval-auc:0.64192\n",
      "[6]\ttrain-auc:0.90292\teval-auc:0.63992\n",
      "[7]\ttrain-auc:0.90330\teval-auc:0.63954\n",
      "[8]\ttrain-auc:0.93668\teval-auc:0.64931\n",
      "[9]\ttrain-auc:0.93851\teval-auc:0.64823\n"
     ]
    },
    {
     "name": "stderr",
     "output_type": "stream",
     "text": [
      "/home/uzair/miniconda3/envs/sci-data/lib/python3.9/site-packages/xgboost/core.py:122: UserWarning: ntree_limit is deprecated, use `iteration_range` or model slicing instead.\n",
      "  warnings.warn(\n"
     ]
    },
    {
     "name": "stdout",
     "output_type": "stream",
     "text": [
      "[0]\ttrain-auc:0.91299\teval-auc:0.59994\n",
      "[1]\ttrain-auc:0.92058\teval-auc:0.61575\n",
      "[2]\ttrain-auc:0.91900\teval-auc:0.62076\n",
      "[3]\ttrain-auc:0.91908\teval-auc:0.62244\n",
      "[4]\ttrain-auc:0.92329\teval-auc:0.62145\n",
      "[5]\ttrain-auc:0.92361\teval-auc:0.62114\n",
      "[6]\ttrain-auc:0.92883\teval-auc:0.62874\n",
      "[7]\ttrain-auc:0.93306\teval-auc:0.62973\n",
      "[8]\ttrain-auc:0.93522\teval-auc:0.62958\n",
      "[9]\ttrain-auc:0.93570\teval-auc:0.62623\n"
     ]
    },
    {
     "name": "stderr",
     "output_type": "stream",
     "text": [
      "/home/uzair/miniconda3/envs/sci-data/lib/python3.9/site-packages/xgboost/core.py:122: UserWarning: ntree_limit is deprecated, use `iteration_range` or model slicing instead.\n",
      "  warnings.warn(\n"
     ]
    },
    {
     "name": "stdout",
     "output_type": "stream",
     "text": [
      "[0]\ttrain-auc:0.90348\teval-auc:0.61314\n",
      "[1]\ttrain-auc:0.90334\teval-auc:0.61538\n",
      "[2]\ttrain-auc:0.90286\teval-auc:0.62067\n",
      "[3]\ttrain-auc:0.94539\teval-auc:0.59567\n",
      "[4]\ttrain-auc:0.95815\teval-auc:0.60721\n",
      "[5]\ttrain-auc:0.96165\teval-auc:0.60489\n",
      "[6]\ttrain-auc:0.96605\teval-auc:0.58934\n",
      "[7]\ttrain-auc:0.96728\teval-auc:0.59303\n",
      "[8]\ttrain-auc:0.96735\teval-auc:0.59014\n",
      "[9]\ttrain-auc:0.97022\teval-auc:0.58542\n"
     ]
    },
    {
     "name": "stderr",
     "output_type": "stream",
     "text": [
      "/home/uzair/miniconda3/envs/sci-data/lib/python3.9/site-packages/xgboost/core.py:122: UserWarning: ntree_limit is deprecated, use `iteration_range` or model slicing instead.\n",
      "  warnings.warn(\n"
     ]
    },
    {
     "name": "stdout",
     "output_type": "stream",
     "text": [
      "[0]\ttrain-auc:0.89874\teval-auc:0.61584\n",
      "[1]\ttrain-auc:0.89891\teval-auc:0.62406\n",
      "[2]\ttrain-auc:0.89863\teval-auc:0.61652\n",
      "[3]\ttrain-auc:0.89902\teval-auc:0.61471\n",
      "[4]\ttrain-auc:0.89923\teval-auc:0.60935\n",
      "[5]\ttrain-auc:0.89897\teval-auc:0.60837\n",
      "[6]\ttrain-auc:0.92375\teval-auc:0.61531\n",
      "[7]\ttrain-auc:0.92276\teval-auc:0.61380\n",
      "[8]\ttrain-auc:0.93076\teval-auc:0.62232\n",
      "[9]\ttrain-auc:0.93054\teval-auc:0.62383\n"
     ]
    },
    {
     "name": "stderr",
     "output_type": "stream",
     "text": [
      "/home/uzair/miniconda3/envs/sci-data/lib/python3.9/site-packages/xgboost/core.py:122: UserWarning: ntree_limit is deprecated, use `iteration_range` or model slicing instead.\n",
      "  warnings.warn(\n"
     ]
    },
    {
     "name": "stdout",
     "output_type": "stream",
     "text": [
      "[0]\ttrain-auc:0.91493\teval-auc:0.60747\n",
      "[1]\ttrain-auc:0.96868\teval-auc:0.60362\n",
      "[2]\ttrain-auc:0.96478\teval-auc:0.59275\n",
      "[3]\ttrain-auc:0.96604\teval-auc:0.58762\n",
      "[4]\ttrain-auc:0.97088\teval-auc:0.59125\n",
      "[5]\ttrain-auc:0.97160\teval-auc:0.59125\n",
      "[6]\ttrain-auc:0.97594\teval-auc:0.60204\n",
      "[7]\ttrain-auc:0.97527\teval-auc:0.60596\n",
      "[8]\ttrain-auc:0.97684\teval-auc:0.60385\n",
      "[9]\ttrain-auc:0.97671\teval-auc:0.60762\n"
     ]
    },
    {
     "name": "stderr",
     "output_type": "stream",
     "text": [
      "/home/uzair/miniconda3/envs/sci-data/lib/python3.9/site-packages/xgboost/core.py:122: UserWarning: ntree_limit is deprecated, use `iteration_range` or model slicing instead.\n",
      "  warnings.warn(\n"
     ]
    },
    {
     "name": "stdout",
     "output_type": "stream",
     "text": [
      "[0]\ttrain-auc:0.93249\teval-auc:0.61213\n",
      "[1]\ttrain-auc:0.94281\teval-auc:0.62076\n",
      "[2]\ttrain-auc:0.94100\teval-auc:0.62591\n",
      "[3]\ttrain-auc:0.94239\teval-auc:0.63287\n",
      "[4]\ttrain-auc:0.94400\teval-auc:0.62985\n",
      "[5]\ttrain-auc:0.94425\teval-auc:0.63287\n",
      "[6]\ttrain-auc:0.94562\teval-auc:0.63098\n",
      "[7]\ttrain-auc:0.95621\teval-auc:0.63181\n",
      "[8]\ttrain-auc:0.95636\teval-auc:0.63583\n",
      "[9]\ttrain-auc:0.95802\teval-auc:0.63250\n"
     ]
    },
    {
     "name": "stderr",
     "output_type": "stream",
     "text": [
      "/home/uzair/miniconda3/envs/sci-data/lib/python3.9/site-packages/xgboost/core.py:122: UserWarning: ntree_limit is deprecated, use `iteration_range` or model slicing instead.\n",
      "  warnings.warn(\n"
     ]
    },
    {
     "name": "stdout",
     "output_type": "stream",
     "text": [
      "[0]\ttrain-auc:0.92025\teval-auc:0.62340\n",
      "[1]\ttrain-auc:0.92207\teval-auc:0.64048\n",
      "[2]\ttrain-auc:0.92472\teval-auc:0.64151\n",
      "[3]\ttrain-auc:0.93613\teval-auc:0.63558\n",
      "[4]\ttrain-auc:0.93707\teval-auc:0.63629\n",
      "[5]\ttrain-auc:0.93829\teval-auc:0.63534\n",
      "[6]\ttrain-auc:0.93863\teval-auc:0.63139\n",
      "[7]\ttrain-auc:0.94516\teval-auc:0.63392\n",
      "[8]\ttrain-auc:0.94631\teval-auc:0.63297\n",
      "[9]\ttrain-auc:0.94614\teval-auc:0.63218\n"
     ]
    },
    {
     "name": "stderr",
     "output_type": "stream",
     "text": [
      "/home/uzair/miniconda3/envs/sci-data/lib/python3.9/site-packages/xgboost/core.py:122: UserWarning: ntree_limit is deprecated, use `iteration_range` or model slicing instead.\n",
      "  warnings.warn(\n"
     ]
    },
    {
     "name": "stdout",
     "output_type": "stream",
     "text": [
      "[0]\ttrain-auc:0.87642\teval-auc:0.61216\n",
      "[1]\ttrain-auc:0.87581\teval-auc:0.60239\n",
      "[2]\ttrain-auc:0.89967\teval-auc:0.60239\n",
      "[3]\ttrain-auc:0.91033\teval-auc:0.60861\n",
      "[4]\ttrain-auc:0.91362\teval-auc:0.60893\n",
      "[5]\ttrain-auc:0.91005\teval-auc:0.61232\n",
      "[6]\ttrain-auc:0.91610\teval-auc:0.61345\n",
      "[7]\ttrain-auc:0.91785\teval-auc:0.61458\n",
      "[8]\ttrain-auc:0.95144\teval-auc:0.64236\n",
      "[9]\ttrain-auc:0.95208\teval-auc:0.64260\n"
     ]
    },
    {
     "name": "stderr",
     "output_type": "stream",
     "text": [
      "/home/uzair/miniconda3/envs/sci-data/lib/python3.9/site-packages/xgboost/core.py:122: UserWarning: ntree_limit is deprecated, use `iteration_range` or model slicing instead.\n",
      "  warnings.warn(\n"
     ]
    },
    {
     "name": "stdout",
     "output_type": "stream",
     "text": [
      "[0]\ttrain-auc:0.91462\teval-auc:0.60490\n",
      "[1]\ttrain-auc:0.91852\teval-auc:0.58983\n",
      "[2]\ttrain-auc:0.91840\teval-auc:0.60150\n",
      "[3]\ttrain-auc:0.91665\teval-auc:0.60065\n",
      "[4]\ttrain-auc:0.91649\teval-auc:0.59709\n",
      "[5]\ttrain-auc:0.92376\teval-auc:0.59918\n",
      "[6]\ttrain-auc:0.92368\teval-auc:0.60165\n",
      "[7]\ttrain-auc:0.92704\teval-auc:0.59833\n",
      "[8]\ttrain-auc:0.92793\teval-auc:0.60529\n",
      "[9]\ttrain-auc:0.92938\teval-auc:0.60575\n"
     ]
    },
    {
     "name": "stderr",
     "output_type": "stream",
     "text": [
      "/home/uzair/miniconda3/envs/sci-data/lib/python3.9/site-packages/xgboost/core.py:122: UserWarning: ntree_limit is deprecated, use `iteration_range` or model slicing instead.\n",
      "  warnings.warn(\n"
     ]
    },
    {
     "name": "stdout",
     "output_type": "stream",
     "text": [
      "[0]\ttrain-auc:0.93152\teval-auc:0.62259\n",
      "[1]\ttrain-auc:0.93595\teval-auc:0.63171\n",
      "[2]\ttrain-auc:0.93508\teval-auc:0.63406\n",
      "[3]\ttrain-auc:0.93821\teval-auc:0.63406\n",
      "[4]\ttrain-auc:0.93720\teval-auc:0.63421\n",
      "[5]\ttrain-auc:0.93716\teval-auc:0.63604\n",
      "[6]\ttrain-auc:0.93948\teval-auc:0.63733\n",
      "[7]\ttrain-auc:0.93945\teval-auc:0.63642\n",
      "[8]\ttrain-auc:0.93908\teval-auc:0.64098\n",
      "[9]\ttrain-auc:0.94159\teval-auc:0.63763\n"
     ]
    },
    {
     "name": "stderr",
     "output_type": "stream",
     "text": [
      "/home/uzair/miniconda3/envs/sci-data/lib/python3.9/site-packages/xgboost/core.py:122: UserWarning: ntree_limit is deprecated, use `iteration_range` or model slicing instead.\n",
      "  warnings.warn(\n"
     ]
    },
    {
     "name": "stdout",
     "output_type": "stream",
     "text": [
      "[0]\ttrain-auc:0.90795\teval-auc:0.58162\n",
      "[1]\ttrain-auc:0.93696\teval-auc:0.57570\n",
      "[2]\ttrain-auc:0.93543\teval-auc:0.59257\n",
      "[3]\ttrain-auc:0.94169\teval-auc:0.60055\n",
      "[4]\ttrain-auc:0.93991\teval-auc:0.60017\n",
      "[5]\ttrain-auc:0.95311\teval-auc:0.60663\n",
      "[6]\ttrain-auc:0.95428\teval-auc:0.59698\n",
      "[7]\ttrain-auc:0.95721\teval-auc:0.60534\n",
      "[8]\ttrain-auc:0.95998\teval-auc:0.61848\n",
      "[9]\ttrain-auc:0.95879\teval-auc:0.62304\n"
     ]
    },
    {
     "name": "stderr",
     "output_type": "stream",
     "text": [
      "/home/uzair/miniconda3/envs/sci-data/lib/python3.9/site-packages/xgboost/core.py:122: UserWarning: ntree_limit is deprecated, use `iteration_range` or model slicing instead.\n",
      "  warnings.warn(\n"
     ]
    },
    {
     "name": "stdout",
     "output_type": "stream",
     "text": [
      "[0]\ttrain-auc:0.91850\teval-auc:0.57447\n",
      "[1]\ttrain-auc:0.91985\teval-auc:0.58076\n",
      "[2]\ttrain-auc:0.93062\teval-auc:0.55936\n",
      "[3]\ttrain-auc:0.93033\teval-auc:0.56861\n",
      "[4]\ttrain-auc:0.93617\teval-auc:0.58908\n",
      "[5]\ttrain-auc:0.94699\teval-auc:0.58127\n",
      "[6]\ttrain-auc:0.94899\teval-auc:0.59290\n",
      "[7]\ttrain-auc:0.95095\teval-auc:0.59265\n",
      "[8]\ttrain-auc:0.95180\teval-auc:0.59893\n",
      "[9]\ttrain-auc:0.95386\teval-auc:0.60470\n"
     ]
    },
    {
     "name": "stderr",
     "output_type": "stream",
     "text": [
      "/home/uzair/miniconda3/envs/sci-data/lib/python3.9/site-packages/xgboost/core.py:122: UserWarning: ntree_limit is deprecated, use `iteration_range` or model slicing instead.\n",
      "  warnings.warn(\n"
     ]
    },
    {
     "name": "stdout",
     "output_type": "stream",
     "text": [
      "[0]\ttrain-auc:0.92264\teval-auc:0.62146\n",
      "[1]\ttrain-auc:0.93700\teval-auc:0.64977\n",
      "[2]\ttrain-auc:0.95436\teval-auc:0.66215\n",
      "[3]\ttrain-auc:0.95473\teval-auc:0.65462\n",
      "[4]\ttrain-auc:0.96375\teval-auc:0.66585\n",
      "[5]\ttrain-auc:0.96252\teval-auc:0.66438\n",
      "[6]\ttrain-auc:0.96465\teval-auc:0.66923\n",
      "[7]\ttrain-auc:0.96249\teval-auc:0.65985\n",
      "[8]\ttrain-auc:0.96448\teval-auc:0.67054\n",
      "[9]\ttrain-auc:0.96369\teval-auc:0.66415\n"
     ]
    },
    {
     "name": "stderr",
     "output_type": "stream",
     "text": [
      "/home/uzair/miniconda3/envs/sci-data/lib/python3.9/site-packages/xgboost/core.py:122: UserWarning: ntree_limit is deprecated, use `iteration_range` or model slicing instead.\n",
      "  warnings.warn(\n"
     ]
    },
    {
     "name": "stdout",
     "output_type": "stream",
     "text": [
      "[0]\ttrain-auc:0.90740\teval-auc:0.59142\n",
      "[1]\ttrain-auc:0.90767\teval-auc:0.58685\n",
      "[2]\ttrain-auc:0.90845\teval-auc:0.58535\n",
      "[3]\ttrain-auc:0.91065\teval-auc:0.58953\n",
      "[4]\ttrain-auc:0.92609\teval-auc:0.60268\n",
      "[5]\ttrain-auc:0.93165\teval-auc:0.59748\n",
      "[6]\ttrain-auc:0.93089\teval-auc:0.59362\n",
      "[7]\ttrain-auc:0.93538\teval-auc:0.60386\n",
      "[8]\ttrain-auc:0.93728\teval-auc:0.60748\n",
      "[9]\ttrain-auc:0.93856\teval-auc:0.60488\n"
     ]
    },
    {
     "name": "stderr",
     "output_type": "stream",
     "text": [
      "/home/uzair/miniconda3/envs/sci-data/lib/python3.9/site-packages/xgboost/core.py:122: UserWarning: ntree_limit is deprecated, use `iteration_range` or model slicing instead.\n",
      "  warnings.warn(\n"
     ]
    },
    {
     "name": "stdout",
     "output_type": "stream",
     "text": [
      "[0]\ttrain-auc:0.95509\teval-auc:0.60049\n",
      "[1]\ttrain-auc:0.95702\teval-auc:0.60082\n",
      "[2]\ttrain-auc:0.95663\teval-auc:0.60065\n",
      "[3]\ttrain-auc:0.95745\teval-auc:0.60996\n",
      "[4]\ttrain-auc:0.96101\teval-auc:0.60580\n",
      "[5]\ttrain-auc:0.96074\teval-auc:0.61429\n",
      "[6]\ttrain-auc:0.96165\teval-auc:0.61159\n",
      "[7]\ttrain-auc:0.96268\teval-auc:0.60988\n",
      "[8]\ttrain-auc:0.96575\teval-auc:0.61306\n",
      "[9]\ttrain-auc:0.96723\teval-auc:0.61502\n"
     ]
    },
    {
     "name": "stderr",
     "output_type": "stream",
     "text": [
      "/home/uzair/miniconda3/envs/sci-data/lib/python3.9/site-packages/xgboost/core.py:122: UserWarning: ntree_limit is deprecated, use `iteration_range` or model slicing instead.\n",
      "  warnings.warn(\n"
     ]
    },
    {
     "name": "stdout",
     "output_type": "stream",
     "text": [
      "[0]\ttrain-auc:0.89260\teval-auc:0.61790\n",
      "[1]\ttrain-auc:0.89187\teval-auc:0.60968\n",
      "[2]\ttrain-auc:0.89363\teval-auc:0.61250\n",
      "[3]\ttrain-auc:0.91270\teval-auc:0.60782\n",
      "[4]\ttrain-auc:0.91264\teval-auc:0.60629\n",
      "[5]\ttrain-auc:0.92310\teval-auc:0.61629\n",
      "[6]\ttrain-auc:0.92440\teval-auc:0.60855\n",
      "[7]\ttrain-auc:0.93392\teval-auc:0.61089\n",
      "[8]\ttrain-auc:0.93628\teval-auc:0.61169\n",
      "[9]\ttrain-auc:0.93590\teval-auc:0.61315\n"
     ]
    },
    {
     "name": "stderr",
     "output_type": "stream",
     "text": [
      "/home/uzair/miniconda3/envs/sci-data/lib/python3.9/site-packages/xgboost/core.py:122: UserWarning: ntree_limit is deprecated, use `iteration_range` or model slicing instead.\n",
      "  warnings.warn(\n"
     ]
    },
    {
     "name": "stdout",
     "output_type": "stream",
     "text": [
      "[0]\ttrain-auc:0.90669\teval-auc:0.57064\n",
      "[1]\ttrain-auc:0.91096\teval-auc:0.56931\n",
      "[2]\ttrain-auc:0.91084\teval-auc:0.56829\n",
      "[3]\ttrain-auc:0.90728\teval-auc:0.56672\n",
      "[4]\ttrain-auc:0.90877\teval-auc:0.57645\n",
      "[5]\ttrain-auc:0.93834\teval-auc:0.58061\n",
      "[6]\ttrain-auc:0.93718\teval-auc:0.57606\n",
      "[7]\ttrain-auc:0.94040\teval-auc:0.58093\n",
      "[8]\ttrain-auc:0.94497\teval-auc:0.58218\n",
      "[9]\ttrain-auc:0.94707\teval-auc:0.58666\n"
     ]
    },
    {
     "name": "stderr",
     "output_type": "stream",
     "text": [
      "/home/uzair/miniconda3/envs/sci-data/lib/python3.9/site-packages/xgboost/core.py:122: UserWarning: ntree_limit is deprecated, use `iteration_range` or model slicing instead.\n",
      "  warnings.warn(\n"
     ]
    },
    {
     "name": "stdout",
     "output_type": "stream",
     "text": [
      "[0]\ttrain-auc:0.92803\teval-auc:0.62865\n",
      "[1]\ttrain-auc:0.93912\teval-auc:0.63578\n",
      "[2]\ttrain-auc:0.93842\teval-auc:0.63495\n",
      "[3]\ttrain-auc:0.93949\teval-auc:0.62798\n",
      "[4]\ttrain-auc:0.96373\teval-auc:0.61596\n",
      "[5]\ttrain-auc:0.97215\teval-auc:0.60942\n",
      "[6]\ttrain-auc:0.97534\teval-auc:0.60618\n",
      "[7]\ttrain-auc:0.97963\teval-auc:0.61845\n",
      "[8]\ttrain-auc:0.97993\teval-auc:0.60958\n",
      "[9]\ttrain-auc:0.98398\teval-auc:0.60627\n"
     ]
    },
    {
     "name": "stderr",
     "output_type": "stream",
     "text": [
      "/home/uzair/miniconda3/envs/sci-data/lib/python3.9/site-packages/xgboost/core.py:122: UserWarning: ntree_limit is deprecated, use `iteration_range` or model slicing instead.\n",
      "  warnings.warn(\n"
     ]
    },
    {
     "name": "stdout",
     "output_type": "stream",
     "text": [
      "[0]\ttrain-auc:0.89557\teval-auc:0.57833\n",
      "[1]\ttrain-auc:0.89674\teval-auc:0.59082\n",
      "[2]\ttrain-auc:0.89645\teval-auc:0.59252\n",
      "[3]\ttrain-auc:0.89952\teval-auc:0.58386\n",
      "[4]\ttrain-auc:0.94485\teval-auc:0.58360\n",
      "[5]\ttrain-auc:0.95135\teval-auc:0.59346\n",
      "[6]\ttrain-auc:0.95610\teval-auc:0.59618\n",
      "[7]\ttrain-auc:0.95529\teval-auc:0.59652\n",
      "[8]\ttrain-auc:0.95705\teval-auc:0.59839\n",
      "[9]\ttrain-auc:0.96030\teval-auc:0.60263\n"
     ]
    },
    {
     "name": "stderr",
     "output_type": "stream",
     "text": [
      "/home/uzair/miniconda3/envs/sci-data/lib/python3.9/site-packages/xgboost/core.py:122: UserWarning: ntree_limit is deprecated, use `iteration_range` or model slicing instead.\n",
      "  warnings.warn(\n"
     ]
    },
    {
     "name": "stdout",
     "output_type": "stream",
     "text": [
      "[0]\ttrain-auc:0.90136\teval-auc:0.61499\n",
      "[1]\ttrain-auc:0.93155\teval-auc:0.63543\n",
      "[2]\ttrain-auc:0.93167\teval-auc:0.65404\n",
      "[3]\ttrain-auc:0.95289\teval-auc:0.67024\n",
      "[4]\ttrain-auc:0.95399\teval-auc:0.68062\n",
      "[5]\ttrain-auc:0.96210\teval-auc:0.68062\n",
      "[6]\ttrain-auc:0.95921\teval-auc:0.68445\n",
      "[7]\ttrain-auc:0.96347\teval-auc:0.68195\n",
      "[8]\ttrain-auc:0.96391\teval-auc:0.68445\n",
      "[9]\ttrain-auc:0.96548\teval-auc:0.68860\n"
     ]
    },
    {
     "name": "stderr",
     "output_type": "stream",
     "text": [
      "/home/uzair/miniconda3/envs/sci-data/lib/python3.9/site-packages/xgboost/core.py:122: UserWarning: ntree_limit is deprecated, use `iteration_range` or model slicing instead.\n",
      "  warnings.warn(\n"
     ]
    },
    {
     "name": "stdout",
     "output_type": "stream",
     "text": [
      "[0]\ttrain-auc:0.91225\teval-auc:0.52634\n",
      "[1]\ttrain-auc:0.92996\teval-auc:0.56517\n",
      "[2]\ttrain-auc:0.92771\teval-auc:0.54877\n",
      "[3]\ttrain-auc:0.92974\teval-auc:0.55760\n",
      "[4]\ttrain-auc:0.93460\teval-auc:0.55913\n",
      "[5]\ttrain-auc:0.93463\teval-auc:0.55913\n",
      "[6]\ttrain-auc:0.93583\teval-auc:0.55455\n",
      "[7]\ttrain-auc:0.93666\teval-auc:0.56389\n",
      "[8]\ttrain-auc:0.93801\teval-auc:0.56015\n",
      "[9]\ttrain-auc:0.93881\teval-auc:0.56194\n"
     ]
    },
    {
     "name": "stderr",
     "output_type": "stream",
     "text": [
      "/home/uzair/miniconda3/envs/sci-data/lib/python3.9/site-packages/xgboost/core.py:122: UserWarning: ntree_limit is deprecated, use `iteration_range` or model slicing instead.\n",
      "  warnings.warn(\n"
     ]
    },
    {
     "name": "stdout",
     "output_type": "stream",
     "text": [
      "[0]\ttrain-auc:0.90637\teval-auc:0.68175\n",
      "[1]\ttrain-auc:0.93179\teval-auc:0.68456\n",
      "[2]\ttrain-auc:0.93178\teval-auc:0.67702\n",
      "[3]\ttrain-auc:0.94268\teval-auc:0.68456\n",
      "[4]\ttrain-auc:0.94296\teval-auc:0.68193\n",
      "[5]\ttrain-auc:0.95062\teval-auc:0.69061\n",
      "[6]\ttrain-auc:0.94915\teval-auc:0.68658\n",
      "[7]\ttrain-auc:0.95226\teval-auc:0.69228\n",
      "[8]\ttrain-auc:0.96067\teval-auc:0.70026\n",
      "[9]\ttrain-auc:0.96647\teval-auc:0.70114\n"
     ]
    },
    {
     "name": "stderr",
     "output_type": "stream",
     "text": [
      "/home/uzair/miniconda3/envs/sci-data/lib/python3.9/site-packages/xgboost/core.py:122: UserWarning: ntree_limit is deprecated, use `iteration_range` or model slicing instead.\n",
      "  warnings.warn(\n"
     ]
    },
    {
     "name": "stdout",
     "output_type": "stream",
     "text": [
      "[0]\ttrain-auc:0.91308\teval-auc:0.62469\n",
      "[1]\ttrain-auc:0.93939\teval-auc:0.63929\n",
      "[2]\ttrain-auc:0.93815\teval-auc:0.63871\n",
      "[3]\ttrain-auc:0.95604\teval-auc:0.64601\n",
      "[4]\ttrain-auc:0.96827\teval-auc:0.65093\n",
      "[5]\ttrain-auc:0.96586\teval-auc:0.64486\n",
      "[6]\ttrain-auc:0.97060\teval-auc:0.65093\n",
      "[7]\ttrain-auc:0.97161\teval-auc:0.64748\n",
      "[8]\ttrain-auc:0.97387\teval-auc:0.64871\n",
      "[9]\ttrain-auc:0.97479\teval-auc:0.64888\n"
     ]
    },
    {
     "name": "stderr",
     "output_type": "stream",
     "text": [
      "/home/uzair/miniconda3/envs/sci-data/lib/python3.9/site-packages/xgboost/core.py:122: UserWarning: ntree_limit is deprecated, use `iteration_range` or model slicing instead.\n",
      "  warnings.warn(\n"
     ]
    },
    {
     "name": "stdout",
     "output_type": "stream",
     "text": [
      "[0]\ttrain-auc:0.91843\teval-auc:0.56831\n",
      "[1]\ttrain-auc:0.92176\teval-auc:0.56433\n",
      "[2]\ttrain-auc:0.92063\teval-auc:0.57022\n",
      "[3]\ttrain-auc:0.92826\teval-auc:0.56952\n",
      "[4]\ttrain-auc:0.92744\teval-auc:0.56848\n",
      "[5]\ttrain-auc:0.93323\teval-auc:0.57117\n",
      "[6]\ttrain-auc:0.93368\teval-auc:0.57238\n",
      "[7]\ttrain-auc:0.93669\teval-auc:0.57247\n",
      "[8]\ttrain-auc:0.93752\teval-auc:0.56537\n",
      "[9]\ttrain-auc:0.93994\teval-auc:0.56926\n"
     ]
    },
    {
     "name": "stderr",
     "output_type": "stream",
     "text": [
      "/home/uzair/miniconda3/envs/sci-data/lib/python3.9/site-packages/xgboost/core.py:122: UserWarning: ntree_limit is deprecated, use `iteration_range` or model slicing instead.\n",
      "  warnings.warn(\n"
     ]
    },
    {
     "name": "stdout",
     "output_type": "stream",
     "text": [
      "[0]\ttrain-auc:0.93134\teval-auc:0.68541\n",
      "[1]\ttrain-auc:0.93977\teval-auc:0.69657\n",
      "[2]\ttrain-auc:0.96775\teval-auc:0.70510\n",
      "[3]\ttrain-auc:0.96499\teval-auc:0.69630\n",
      "[4]\ttrain-auc:0.96934\teval-auc:0.69693\n",
      "[5]\ttrain-auc:0.98201\teval-auc:0.71163\n",
      "[6]\ttrain-auc:0.98298\teval-auc:0.70056\n",
      "[7]\ttrain-auc:0.98684\teval-auc:0.71145\n",
      "[8]\ttrain-auc:0.98498\teval-auc:0.71798\n",
      "[9]\ttrain-auc:0.98456\teval-auc:0.71290\n"
     ]
    },
    {
     "name": "stderr",
     "output_type": "stream",
     "text": [
      "/home/uzair/miniconda3/envs/sci-data/lib/python3.9/site-packages/xgboost/core.py:122: UserWarning: ntree_limit is deprecated, use `iteration_range` or model slicing instead.\n",
      "  warnings.warn(\n"
     ]
    },
    {
     "name": "stdout",
     "output_type": "stream",
     "text": [
      "[0]\ttrain-auc:0.90578\teval-auc:0.62475\n",
      "[1]\ttrain-auc:0.91558\teval-auc:0.60921\n",
      "[2]\ttrain-auc:0.91620\teval-auc:0.60590\n",
      "[3]\ttrain-auc:0.94782\teval-auc:0.62087\n",
      "[4]\ttrain-auc:0.94624\teval-auc:0.62103\n",
      "[5]\ttrain-auc:0.95243\teval-auc:0.62533\n",
      "[6]\ttrain-auc:0.95232\teval-auc:0.62401\n",
      "[7]\ttrain-auc:0.95501\teval-auc:0.62525\n",
      "[8]\ttrain-auc:0.95408\teval-auc:0.62748\n",
      "[9]\ttrain-auc:0.95597\teval-auc:0.62550\n"
     ]
    },
    {
     "name": "stderr",
     "output_type": "stream",
     "text": [
      "/home/uzair/miniconda3/envs/sci-data/lib/python3.9/site-packages/xgboost/core.py:122: UserWarning: ntree_limit is deprecated, use `iteration_range` or model slicing instead.\n",
      "  warnings.warn(\n"
     ]
    },
    {
     "name": "stdout",
     "output_type": "stream",
     "text": [
      "[0]\ttrain-auc:0.92146\teval-auc:0.51687\n",
      "[1]\ttrain-auc:0.94109\teval-auc:0.52839\n",
      "[2]\ttrain-auc:0.95650\teval-auc:0.56071\n",
      "[3]\ttrain-auc:0.95898\teval-auc:0.57000\n",
      "[4]\ttrain-auc:0.95850\teval-auc:0.57536\n",
      "[5]\ttrain-auc:0.97135\teval-auc:0.59348\n",
      "[6]\ttrain-auc:0.97498\teval-auc:0.59473\n",
      "[7]\ttrain-auc:0.97823\teval-auc:0.59714\n",
      "[8]\ttrain-auc:0.97788\teval-auc:0.59286\n",
      "[9]\ttrain-auc:0.97933\teval-auc:0.59795\n"
     ]
    },
    {
     "name": "stderr",
     "output_type": "stream",
     "text": [
      "/home/uzair/miniconda3/envs/sci-data/lib/python3.9/site-packages/xgboost/core.py:122: UserWarning: ntree_limit is deprecated, use `iteration_range` or model slicing instead.\n",
      "  warnings.warn(\n"
     ]
    },
    {
     "name": "stdout",
     "output_type": "stream",
     "text": [
      "[0]\ttrain-auc:0.91676\teval-auc:0.62331\n",
      "[1]\ttrain-auc:0.94045\teval-auc:0.62652\n",
      "[2]\ttrain-auc:0.93723\teval-auc:0.62939\n",
      "[3]\ttrain-auc:0.94045\teval-auc:0.62525\n",
      "[4]\ttrain-auc:0.93759\teval-auc:0.62053\n",
      "[5]\ttrain-auc:0.94188\teval-auc:0.65655\n",
      "[6]\ttrain-auc:0.94608\teval-auc:0.66135\n",
      "[7]\ttrain-auc:0.94879\teval-auc:0.65857\n",
      "[8]\ttrain-auc:0.94862\teval-auc:0.66211\n",
      "[9]\ttrain-auc:0.95473\teval-auc:0.64921\n"
     ]
    },
    {
     "name": "stderr",
     "output_type": "stream",
     "text": [
      "/home/uzair/miniconda3/envs/sci-data/lib/python3.9/site-packages/xgboost/core.py:122: UserWarning: ntree_limit is deprecated, use `iteration_range` or model slicing instead.\n",
      "  warnings.warn(\n"
     ]
    },
    {
     "name": "stdout",
     "output_type": "stream",
     "text": [
      "[0]\ttrain-auc:0.91258\teval-auc:0.61670\n",
      "[1]\ttrain-auc:0.91565\teval-auc:0.60655\n",
      "[2]\ttrain-auc:0.94749\teval-auc:0.61653\n",
      "[3]\ttrain-auc:0.94455\teval-auc:0.63304\n",
      "[4]\ttrain-auc:0.96949\teval-auc:0.64474\n",
      "[5]\ttrain-auc:0.96633\teval-auc:0.63880\n",
      "[6]\ttrain-auc:0.97558\teval-auc:0.63605\n",
      "[7]\ttrain-auc:0.97740\teval-auc:0.62934\n",
      "[8]\ttrain-auc:0.98068\teval-auc:0.64585\n",
      "[9]\ttrain-auc:0.97951\teval-auc:0.64198\n"
     ]
    },
    {
     "name": "stderr",
     "output_type": "stream",
     "text": [
      "/home/uzair/miniconda3/envs/sci-data/lib/python3.9/site-packages/xgboost/core.py:122: UserWarning: ntree_limit is deprecated, use `iteration_range` or model slicing instead.\n",
      "  warnings.warn(\n"
     ]
    },
    {
     "name": "stdout",
     "output_type": "stream",
     "text": [
      "[0]\ttrain-auc:0.91884\teval-auc:0.55655\n",
      "[1]\ttrain-auc:0.92515\teval-auc:0.56176\n",
      "[2]\ttrain-auc:0.92427\teval-auc:0.56019\n",
      "[3]\ttrain-auc:0.92973\teval-auc:0.55820\n",
      "[4]\ttrain-auc:0.93856\teval-auc:0.56159\n",
      "[5]\ttrain-auc:0.93946\teval-auc:0.55952\n",
      "[6]\ttrain-auc:0.94020\teval-auc:0.56217\n",
      "[7]\ttrain-auc:0.94142\teval-auc:0.56523\n",
      "[8]\ttrain-auc:0.94140\teval-auc:0.57118\n",
      "[9]\ttrain-auc:0.94114\teval-auc:0.57102\n"
     ]
    },
    {
     "name": "stderr",
     "output_type": "stream",
     "text": [
      "/home/uzair/miniconda3/envs/sci-data/lib/python3.9/site-packages/xgboost/core.py:122: UserWarning: ntree_limit is deprecated, use `iteration_range` or model slicing instead.\n",
      "  warnings.warn(\n"
     ]
    },
    {
     "name": "stdout",
     "output_type": "stream",
     "text": [
      "[0]\ttrain-auc:0.91321\teval-auc:0.57285\n",
      "[1]\ttrain-auc:0.95434\teval-auc:0.56792\n",
      "[2]\ttrain-auc:0.95015\teval-auc:0.57710\n",
      "[3]\ttrain-auc:0.97253\teval-auc:0.55966\n",
      "[4]\ttrain-auc:0.97685\teval-auc:0.55215\n",
      "[5]\ttrain-auc:0.98474\teval-auc:0.56893\n",
      "[6]\ttrain-auc:0.98720\teval-auc:0.58428\n",
      "[7]\ttrain-auc:0.98859\teval-auc:0.58595\n",
      "[8]\ttrain-auc:0.98884\teval-auc:0.59563\n",
      "[9]\ttrain-auc:0.98910\teval-auc:0.60280\n"
     ]
    },
    {
     "name": "stderr",
     "output_type": "stream",
     "text": [
      "/home/uzair/miniconda3/envs/sci-data/lib/python3.9/site-packages/xgboost/core.py:122: UserWarning: ntree_limit is deprecated, use `iteration_range` or model slicing instead.\n",
      "  warnings.warn(\n"
     ]
    },
    {
     "name": "stdout",
     "output_type": "stream",
     "text": [
      "[0]\ttrain-auc:0.92661\teval-auc:0.51145\n",
      "[1]\ttrain-auc:0.94525\teval-auc:0.52089\n",
      "[2]\ttrain-auc:0.94775\teval-auc:0.51947\n",
      "[3]\ttrain-auc:0.94770\teval-auc:0.51696\n",
      "[4]\ttrain-auc:0.94717\teval-auc:0.51445\n",
      "[5]\ttrain-auc:0.95668\teval-auc:0.52439\n",
      "[6]\ttrain-auc:0.95617\teval-auc:0.52506\n",
      "[7]\ttrain-auc:0.95861\teval-auc:0.52974\n",
      "[8]\ttrain-auc:0.96161\teval-auc:0.52832\n",
      "[9]\ttrain-auc:0.96268\teval-auc:0.53241\n"
     ]
    },
    {
     "name": "stderr",
     "output_type": "stream",
     "text": [
      "/home/uzair/miniconda3/envs/sci-data/lib/python3.9/site-packages/xgboost/core.py:122: UserWarning: ntree_limit is deprecated, use `iteration_range` or model slicing instead.\n",
      "  warnings.warn(\n"
     ]
    },
    {
     "name": "stdout",
     "output_type": "stream",
     "text": [
      "[0]\ttrain-auc:0.91519\teval-auc:0.64567\n",
      "[1]\ttrain-auc:0.91522\teval-auc:0.63847\n",
      "[2]\ttrain-auc:0.91540\teval-auc:0.62872\n",
      "[3]\ttrain-auc:0.91622\teval-auc:0.62568\n",
      "[4]\ttrain-auc:0.92154\teval-auc:0.63072\n",
      "[5]\ttrain-auc:0.92254\teval-auc:0.62944\n",
      "[6]\ttrain-auc:0.92698\teval-auc:0.63080\n",
      "[7]\ttrain-auc:0.92829\teval-auc:0.63032\n",
      "[8]\ttrain-auc:0.92756\teval-auc:0.62976\n",
      "[9]\ttrain-auc:0.93129\teval-auc:0.63200\n"
     ]
    },
    {
     "name": "stderr",
     "output_type": "stream",
     "text": [
      "/home/uzair/miniconda3/envs/sci-data/lib/python3.9/site-packages/xgboost/core.py:122: UserWarning: ntree_limit is deprecated, use `iteration_range` or model slicing instead.\n",
      "  warnings.warn(\n"
     ]
    },
    {
     "name": "stdout",
     "output_type": "stream",
     "text": [
      "[0]\ttrain-auc:0.90363\teval-auc:0.66633\n",
      "[1]\ttrain-auc:0.95583\teval-auc:0.69109\n",
      "[2]\ttrain-auc:0.95793\teval-auc:0.69025\n",
      "[3]\ttrain-auc:0.96105\teval-auc:0.68399\n",
      "[4]\ttrain-auc:0.95881\teval-auc:0.68704\n",
      "[5]\ttrain-auc:0.95814\teval-auc:0.69008\n",
      "[6]\ttrain-auc:0.96225\teval-auc:0.69304\n",
      "[7]\ttrain-auc:0.96329\teval-auc:0.69084\n",
      "[8]\ttrain-auc:0.96762\teval-auc:0.70960\n",
      "[9]\ttrain-auc:0.96944\teval-auc:0.70850\n"
     ]
    },
    {
     "name": "stderr",
     "output_type": "stream",
     "text": [
      "/home/uzair/miniconda3/envs/sci-data/lib/python3.9/site-packages/xgboost/core.py:122: UserWarning: ntree_limit is deprecated, use `iteration_range` or model slicing instead.\n",
      "  warnings.warn(\n"
     ]
    },
    {
     "name": "stdout",
     "output_type": "stream",
     "text": [
      "[0]\ttrain-auc:0.92603\teval-auc:0.55911\n",
      "[1]\ttrain-auc:0.93154\teval-auc:0.56430\n",
      "[2]\ttrain-auc:0.93923\teval-auc:0.56266\n",
      "[3]\ttrain-auc:0.93849\teval-auc:0.56029\n",
      "[4]\ttrain-auc:0.94391\teval-auc:0.56585\n",
      "[5]\ttrain-auc:0.94323\teval-auc:0.56648\n",
      "[6]\ttrain-auc:0.94375\teval-auc:0.56794\n",
      "[7]\ttrain-auc:0.94361\teval-auc:0.57031\n",
      "[8]\ttrain-auc:0.94359\teval-auc:0.56794\n",
      "[9]\ttrain-auc:0.95032\teval-auc:0.56302\n"
     ]
    },
    {
     "name": "stderr",
     "output_type": "stream",
     "text": [
      "/home/uzair/miniconda3/envs/sci-data/lib/python3.9/site-packages/xgboost/core.py:122: UserWarning: ntree_limit is deprecated, use `iteration_range` or model slicing instead.\n",
      "  warnings.warn(\n"
     ]
    },
    {
     "name": "stdout",
     "output_type": "stream",
     "text": [
      "[0]\ttrain-auc:0.91837\teval-auc:0.60773\n",
      "[1]\ttrain-auc:0.92230\teval-auc:0.60941\n",
      "[2]\ttrain-auc:0.93886\teval-auc:0.61773\n",
      "[3]\ttrain-auc:0.94177\teval-auc:0.61176\n",
      "[4]\ttrain-auc:0.94259\teval-auc:0.61597\n",
      "[5]\ttrain-auc:0.95143\teval-auc:0.62252\n",
      "[6]\ttrain-auc:0.95335\teval-auc:0.62647\n",
      "[7]\ttrain-auc:0.96135\teval-auc:0.62849\n",
      "[8]\ttrain-auc:0.96308\teval-auc:0.63605\n",
      "[9]\ttrain-auc:0.96437\teval-auc:0.62756\n"
     ]
    },
    {
     "name": "stderr",
     "output_type": "stream",
     "text": [
      "/home/uzair/miniconda3/envs/sci-data/lib/python3.9/site-packages/xgboost/core.py:122: UserWarning: ntree_limit is deprecated, use `iteration_range` or model slicing instead.\n",
      "  warnings.warn(\n"
     ]
    },
    {
     "name": "stdout",
     "output_type": "stream",
     "text": [
      "[0]\ttrain-auc:0.89004\teval-auc:0.65057\n",
      "[1]\ttrain-auc:0.88960\teval-auc:0.63466\n",
      "[2]\ttrain-auc:0.88955\teval-auc:0.63835\n",
      "[3]\ttrain-auc:0.90941\teval-auc:0.65142\n",
      "[4]\ttrain-auc:0.92576\teval-auc:0.62112\n",
      "[5]\ttrain-auc:0.92761\teval-auc:0.62955\n",
      "[6]\ttrain-auc:0.93345\teval-auc:0.61856\n",
      "[7]\ttrain-auc:0.93334\teval-auc:0.62027\n",
      "[8]\ttrain-auc:0.93708\teval-auc:0.62169\n",
      "[9]\ttrain-auc:0.93429\teval-auc:0.62131\n"
     ]
    },
    {
     "name": "stderr",
     "output_type": "stream",
     "text": [
      "/home/uzair/miniconda3/envs/sci-data/lib/python3.9/site-packages/xgboost/core.py:122: UserWarning: ntree_limit is deprecated, use `iteration_range` or model slicing instead.\n",
      "  warnings.warn(\n"
     ]
    },
    {
     "name": "stdout",
     "output_type": "stream",
     "text": [
      "[0]\ttrain-auc:0.90556\teval-auc:0.57577\n",
      "[1]\ttrain-auc:0.90522\teval-auc:0.56627\n",
      "[2]\ttrain-auc:0.90415\teval-auc:0.56609\n",
      "[3]\ttrain-auc:0.90654\teval-auc:0.57362\n",
      "[4]\ttrain-auc:0.90534\teval-auc:0.56618\n",
      "[5]\ttrain-auc:0.90430\teval-auc:0.56824\n",
      "[6]\ttrain-auc:0.90743\teval-auc:0.57039\n",
      "[7]\ttrain-auc:0.91906\teval-auc:0.57676\n",
      "[8]\ttrain-auc:0.92095\teval-auc:0.57891\n",
      "[9]\ttrain-auc:0.92396\teval-auc:0.58025\n"
     ]
    },
    {
     "name": "stderr",
     "output_type": "stream",
     "text": [
      "/home/uzair/miniconda3/envs/sci-data/lib/python3.9/site-packages/xgboost/core.py:122: UserWarning: ntree_limit is deprecated, use `iteration_range` or model slicing instead.\n",
      "  warnings.warn(\n"
     ]
    },
    {
     "name": "stdout",
     "output_type": "stream",
     "text": [
      "[0]\ttrain-auc:0.88583\teval-auc:0.60697\n",
      "[1]\ttrain-auc:0.88558\teval-auc:0.62095\n",
      "[2]\ttrain-auc:0.91773\teval-auc:0.63064\n",
      "[3]\ttrain-auc:0.92108\teval-auc:0.64805\n",
      "[4]\ttrain-auc:0.93138\teval-auc:0.64659\n",
      "[5]\ttrain-auc:0.93203\teval-auc:0.64522\n",
      "[6]\ttrain-auc:0.93239\teval-auc:0.64985\n",
      "[7]\ttrain-auc:0.94987\teval-auc:0.66838\n",
      "[8]\ttrain-auc:0.95480\teval-auc:0.67422\n",
      "[9]\ttrain-auc:0.96612\teval-auc:0.67482\n"
     ]
    },
    {
     "name": "stderr",
     "output_type": "stream",
     "text": [
      "/home/uzair/miniconda3/envs/sci-data/lib/python3.9/site-packages/xgboost/core.py:122: UserWarning: ntree_limit is deprecated, use `iteration_range` or model slicing instead.\n",
      "  warnings.warn(\n"
     ]
    },
    {
     "name": "stdout",
     "output_type": "stream",
     "text": [
      "[0]\ttrain-auc:0.86780\teval-auc:0.59701\n",
      "[1]\ttrain-auc:0.87110\teval-auc:0.58835\n",
      "[2]\ttrain-auc:0.87242\teval-auc:0.58835\n",
      "[3]\ttrain-auc:0.89565\teval-auc:0.57180\n",
      "[4]\ttrain-auc:0.93961\teval-auc:0.61408\n",
      "[5]\ttrain-auc:0.93470\teval-auc:0.61117\n",
      "[6]\ttrain-auc:0.95146\teval-auc:0.62884\n",
      "[7]\ttrain-auc:0.95348\teval-auc:0.61932\n",
      "[8]\ttrain-auc:0.96097\teval-auc:0.63158\n",
      "[9]\ttrain-auc:0.95817\teval-auc:0.62112\n"
     ]
    },
    {
     "name": "stderr",
     "output_type": "stream",
     "text": [
      "/home/uzair/miniconda3/envs/sci-data/lib/python3.9/site-packages/xgboost/core.py:122: UserWarning: ntree_limit is deprecated, use `iteration_range` or model slicing instead.\n",
      "  warnings.warn(\n"
     ]
    },
    {
     "name": "stdout",
     "output_type": "stream",
     "text": [
      "[0]\ttrain-auc:0.92130\teval-auc:0.60521\n",
      "[1]\ttrain-auc:0.92122\teval-auc:0.61466\n",
      "[2]\ttrain-auc:0.92082\teval-auc:0.61522\n",
      "[3]\ttrain-auc:0.92070\teval-auc:0.61448\n",
      "[4]\ttrain-auc:0.93368\teval-auc:0.62291\n",
      "[5]\ttrain-auc:0.94083\teval-auc:0.62959\n",
      "[6]\ttrain-auc:0.94418\teval-auc:0.63061\n",
      "[7]\ttrain-auc:0.94630\teval-auc:0.62838\n",
      "[8]\ttrain-auc:0.95020\teval-auc:0.62152\n",
      "[9]\ttrain-auc:0.95482\teval-auc:0.62709\n"
     ]
    },
    {
     "name": "stderr",
     "output_type": "stream",
     "text": [
      "/home/uzair/miniconda3/envs/sci-data/lib/python3.9/site-packages/xgboost/core.py:122: UserWarning: ntree_limit is deprecated, use `iteration_range` or model slicing instead.\n",
      "  warnings.warn(\n"
     ]
    },
    {
     "name": "stdout",
     "output_type": "stream",
     "text": [
      "[0]\ttrain-auc:0.92522\teval-auc:0.60023\n",
      "[1]\ttrain-auc:0.92925\teval-auc:0.61307\n",
      "[2]\ttrain-auc:0.93854\teval-auc:0.61807\n",
      "[3]\ttrain-auc:0.95804\teval-auc:0.63822\n",
      "[4]\ttrain-auc:0.96562\teval-auc:0.66025\n",
      "[5]\ttrain-auc:0.96612\teval-auc:0.67558\n",
      "[6]\ttrain-auc:0.96606\teval-auc:0.67434\n",
      "[7]\ttrain-auc:0.96603\teval-auc:0.67853\n",
      "[8]\ttrain-auc:0.96584\teval-auc:0.68272\n",
      "[9]\ttrain-auc:0.96517\teval-auc:0.68486\n"
     ]
    },
    {
     "name": "stderr",
     "output_type": "stream",
     "text": [
      "/home/uzair/miniconda3/envs/sci-data/lib/python3.9/site-packages/xgboost/core.py:122: UserWarning: ntree_limit is deprecated, use `iteration_range` or model slicing instead.\n",
      "  warnings.warn(\n"
     ]
    },
    {
     "name": "stdout",
     "output_type": "stream",
     "text": [
      "[0]\ttrain-auc:0.89546\teval-auc:0.52738\n",
      "[1]\ttrain-auc:0.94812\teval-auc:0.49380\n",
      "[2]\ttrain-auc:0.94384\teval-auc:0.49776\n",
      "[3]\ttrain-auc:0.94103\teval-auc:0.49742\n",
      "[4]\ttrain-auc:0.94642\teval-auc:0.49957\n",
      "[5]\ttrain-auc:0.94416\teval-auc:0.50439\n",
      "[6]\ttrain-auc:0.94749\teval-auc:0.50887\n",
      "[7]\ttrain-auc:0.94566\teval-auc:0.50835\n",
      "[8]\ttrain-auc:0.94879\teval-auc:0.50818\n",
      "[9]\ttrain-auc:0.94851\teval-auc:0.51205\n"
     ]
    },
    {
     "name": "stderr",
     "output_type": "stream",
     "text": [
      "/home/uzair/miniconda3/envs/sci-data/lib/python3.9/site-packages/xgboost/core.py:122: UserWarning: ntree_limit is deprecated, use `iteration_range` or model slicing instead.\n",
      "  warnings.warn(\n"
     ]
    },
    {
     "name": "stdout",
     "output_type": "stream",
     "text": [
      "[0]\ttrain-auc:0.91437\teval-auc:0.62802\n",
      "[1]\ttrain-auc:0.92177\teval-auc:0.63562\n",
      "[2]\ttrain-auc:0.92087\teval-auc:0.64954\n",
      "[3]\ttrain-auc:0.92235\teval-auc:0.64716\n",
      "[4]\ttrain-auc:0.92506\teval-auc:0.64258\n",
      "[5]\ttrain-auc:0.92624\teval-auc:0.64148\n",
      "[6]\ttrain-auc:0.92642\teval-auc:0.63645\n",
      "[7]\ttrain-auc:0.92736\teval-auc:0.63297\n",
      "[8]\ttrain-auc:0.93772\teval-auc:0.66264\n",
      "[9]\ttrain-auc:0.95145\teval-auc:0.66163\n"
     ]
    },
    {
     "name": "stderr",
     "output_type": "stream",
     "text": [
      "/home/uzair/miniconda3/envs/sci-data/lib/python3.9/site-packages/xgboost/core.py:122: UserWarning: ntree_limit is deprecated, use `iteration_range` or model slicing instead.\n",
      "  warnings.warn(\n"
     ]
    },
    {
     "name": "stdout",
     "output_type": "stream",
     "text": [
      "[0]\ttrain-auc:0.92199\teval-auc:0.64739\n",
      "[1]\ttrain-auc:0.92504\teval-auc:0.63202\n",
      "[2]\ttrain-auc:0.92660\teval-auc:0.61469\n",
      "[3]\ttrain-auc:0.92885\teval-auc:0.61594\n",
      "[4]\ttrain-auc:0.92541\teval-auc:0.61247\n",
      "[5]\ttrain-auc:0.92562\teval-auc:0.62020\n",
      "[6]\ttrain-auc:0.92522\teval-auc:0.61469\n",
      "[7]\ttrain-auc:0.92589\teval-auc:0.62056\n",
      "[8]\ttrain-auc:0.92666\teval-auc:0.61549\n",
      "[9]\ttrain-auc:0.92669\teval-auc:0.61532\n"
     ]
    },
    {
     "name": "stderr",
     "output_type": "stream",
     "text": [
      "/home/uzair/miniconda3/envs/sci-data/lib/python3.9/site-packages/xgboost/core.py:122: UserWarning: ntree_limit is deprecated, use `iteration_range` or model slicing instead.\n",
      "  warnings.warn(\n"
     ]
    },
    {
     "name": "stdout",
     "output_type": "stream",
     "text": [
      "[0]\ttrain-auc:0.92999\teval-auc:0.63649\n",
      "[1]\ttrain-auc:0.93685\teval-auc:0.62397\n",
      "[2]\ttrain-auc:0.93794\teval-auc:0.62853\n",
      "[3]\ttrain-auc:0.94821\teval-auc:0.66038\n",
      "[4]\ttrain-auc:0.94480\teval-auc:0.65501\n",
      "[5]\ttrain-auc:0.95334\teval-auc:0.65832\n",
      "[6]\ttrain-auc:0.95348\teval-auc:0.66225\n",
      "[7]\ttrain-auc:0.95577\teval-auc:0.65653\n",
      "[8]\ttrain-auc:0.95333\teval-auc:0.66404\n",
      "[9]\ttrain-auc:0.95557\teval-auc:0.65921\n"
     ]
    },
    {
     "name": "stderr",
     "output_type": "stream",
     "text": [
      "/home/uzair/miniconda3/envs/sci-data/lib/python3.9/site-packages/xgboost/core.py:122: UserWarning: ntree_limit is deprecated, use `iteration_range` or model slicing instead.\n",
      "  warnings.warn(\n"
     ]
    }
   ],
   "source": [
    "import xgboost as xgb\n",
    "from sklearn.metrics import accuracy_score, roc_auc_score, f1_score, recall_score, precision_score\n",
    "\n",
    "# Store the results\n",
    "results = {}\n",
    "\n",
    "# Iterate through each cluster\n",
    "for cluster_label, cluster_data in clusters.items():\n",
    "    results[cluster_label] = {'accuracy': [], 'auc': [], 'f1': [], 'recall': [], 'F1 Positive': [], 'Precision': []}\n",
    "    \n",
    "    # Users in current cluster\n",
    "    users_in_cluster = cluster_data.index.tolist()\n",
    "    \n",
    "    # Create a mask for data instances belonging to this cluster\n",
    "    cluster_data_mask = groups_df['pcode'].isin(users_in_cluster)\n",
    "    \n",
    "    # Iterate through each user in the cluster for LOUO cross-validation\n",
    "    for user in users_in_cluster:\n",
    "        \n",
    "        # Find the indices in groups_df for this user\n",
    "        user_indices = groups_df[groups_df['pcode'] == user].index.tolist()\n",
    "        \n",
    "        # Mask for excluding the current user's data\n",
    "        train_mask = (cluster_data_mask) & (~groups_df.index.isin(user_indices))\n",
    "        \n",
    "        # Split the data for LOUO cross-validation\n",
    "        X_train = X[train_mask]\n",
    "        y_train = y[train_mask.values]\n",
    "        \n",
    "        X_test = X.loc[user_indices]\n",
    "        y_test = y[user_indices]\n",
    "        \n",
    "        X_train, X_eval, y_train, y_eval = train_test_split(X_train, y_train, test_size=0.2, random_state=RANDOM_STATE,  stratify=y_train)\n",
    "        \n",
    "        if normalize:\n",
    "            # Normalize numeric features\n",
    "            scaler = StandardScaler().fit(X_train[C_num])\n",
    "            X_train[C_num] = scaler.transform(X_train[C_num].copy())\n",
    "            X_eval[C_num] = scaler.transform(X_eval[C_num].copy())\n",
    "            X_test[C_num] = scaler.transform(X_test[C_num].copy())\n",
    "\n",
    "        if select:\n",
    "            if isinstance(select, SelectFromModel):\n",
    "                select = [select]\n",
    "            for i, s in enumerate(select):\n",
    "                # Fit feature selector only on training data\n",
    "                s.fit(X_train, y_train)\n",
    "                selected_features = X_train.columns[s.get_support()].tolist()\n",
    "\n",
    "                # Apply feature selection to train, eval, and test\n",
    "                X_train = X_train[selected_features].copy()\n",
    "                X_eval = X_eval[selected_features].copy()\n",
    "                X_test = X_test[selected_features].copy()\n",
    "\n",
    "        if oversample:\n",
    "            # Determine categorical features for SMOTENC\n",
    "            if len(C_cat):\n",
    "                M = np.isin(X_train.columns, C_cat)\n",
    "                sampler = SMOTENC(categorical_features=M, random_state=RANDOM_STATE)\n",
    "            else:\n",
    "                sampler = SMOTE(random_state = RANDOM_STATE)\n",
    "            # Only oversample training data\n",
    "            X_train, y_train = sampler.fit_resample(X_train, y_train)\n",
    "        \n",
    "        # Train the XGBoost model\n",
    "        dtrain = xgb.DMatrix(X_train, label=y_train)\n",
    "        deval = xgb.DMatrix(X_eval, label=y_eval)\n",
    "        dtest = xgb.DMatrix(X_test, label=y_test)\n",
    "        \n",
    "        evallist = [(dtrain, 'train'), (deval, 'eval')]\n",
    "        bst = xgb.train(param, dtrain, early_stopping_rounds=10, evals=evallist)\n",
    "        \n",
    "        y_real = dtest.get_label()  # Use the labels directly\n",
    "        y_score = bst.predict(dtest,ntree_limit=bst.best_ntree_limit)\n",
    "        \n",
    "        y_pred = [1 if score >= 0.5 else 0 for score in y_score]\n",
    "        \n",
    "        # Calculate the metrics\n",
    "        accuracy = accuracy_score(y_real, y_pred)\n",
    "        auc = roc_auc_score(y_true=y_real, y_score=y_score, average=None)\n",
    "        f1 = f1_score(y_true=y_real, y_pred=y_pred, pos_label=1, average='macro', zero_division=0)\n",
    "        recall = recall_score(y_true=y_real, y_pred=y_pred, pos_label=1, average='macro', zero_division=0)\n",
    "        f1p = f1_score(y_true=y_real, y_pred=y_pred, pos_label=1, average='binary', zero_division=0)\n",
    "        precision = precision_score(y_true=y_real, y_pred=y_pred, pos_label=1, average='macro', zero_division=0)\n",
    "        \n",
    "        # Store the metrics\n",
    "        results[cluster_label]['accuracy'].append(accuracy)\n",
    "        results[cluster_label]['auc'].append(auc)\n",
    "        results[cluster_label]['f1'].append(f1)\n",
    "        results[cluster_label]['recall'].append(recall)\n",
    "        results[cluster_label]['F1 Positive'].append(f1p)\n",
    "        results[cluster_label]['Precision'].append(precision)\n",
    "\n",
    "# results dictionary will have the metrics for each user in each cluster"
   ]
  },
  {
   "cell_type": "code",
   "execution_count": 21,
   "metadata": {
    "scrolled": true
   },
   "outputs": [
    {
     "name": "stdout",
     "output_type": "stream",
     "text": [
      "\n",
      "\n",
      "{2: {'avg_accuracy': 0.5376149983176912, 'avg_auc': 0.4920580409184682, 'avg_f1': 0.4449902139968375, 'avg_recall': 0.47407937083956386, 'avg_fp1': 0.28406282380072856, 'avg_pre': 0.4832865550219083}, 0: {'avg_accuracy': 0.5133018708256417, 'avg_auc': 0.5225880985292437, 'avg_f1': 0.4702400151212414, 'avg_recall': 0.5052543796483762, 'avg_fp1': 0.3514465558802181, 'avg_pre': 0.5043785445651633}, 1: {'avg_accuracy': 0.5116192355054808, 'avg_auc': 0.5292789876602001, 'avg_f1': 0.4572959452140577, 'avg_recall': 0.5211456474120524, 'avg_fp1': 0.38153066769925287, 'avg_pre': 0.5189874723783882}}\n",
      "\n",
      "\n",
      "{'overall_avg_accuracy': 0.5208453682162713, 'overall_avg_auc': 0.5146417090359706, 'overall_avg_f1': 0.45750872477737886, 'overall_avg_recall': 0.5001597992999974, 'overall_avg_f1p': 0.33901334912673314, 'overall_avg_pre': 0.5022175239884866}\n"
     ]
    }
   ],
   "source": [
    "# Store average results for each cluster\n",
    "average_results_per_cluster = {}\n",
    "\n",
    "for cluster_label, metrics in results.items():\n",
    "    average_results_per_cluster[cluster_label] = {\n",
    "        'avg_accuracy': sum(metrics['accuracy']) / len(metrics['accuracy']),\n",
    "        'avg_auc': sum(metrics['auc']) / len(metrics['auc']),\n",
    "        'avg_f1': sum(metrics['f1']) / len(metrics['f1']),\n",
    "        'avg_recall': sum(metrics['recall']) / len(metrics['recall']),\n",
    "        'avg_fp1':sum(metrics['F1 Positive']) / len(metrics['F1 Positive']),\n",
    "        'avg_pre':sum(metrics['Precision']) / len(metrics['Precision'])\n",
    "    }\n",
    "\n",
    "# Calculate overall averages\n",
    "all_accuracies = [avg['avg_accuracy'] for cluster, avg in average_results_per_cluster.items()]\n",
    "all_aucs = [avg['avg_auc'] for cluster, avg in average_results_per_cluster.items()]\n",
    "all_f1s = [avg['avg_f1'] for cluster, avg in average_results_per_cluster.items()]\n",
    "all_recalls = [avg['avg_recall'] for cluster, avg in average_results_per_cluster.items()]\n",
    "all_fp1 = [avg['avg_fp1'] for cluster, avg in average_results_per_cluster.items()]\n",
    "all_pre = [avg['avg_pre'] for cluster, avg in average_results_per_cluster.items()]\n",
    "\n",
    "print(\"\\n\")\n",
    "\n",
    "overall_avg_results = {\n",
    "    'overall_avg_accuracy': sum(all_accuracies) / len(all_accuracies),\n",
    "    'overall_avg_auc': sum(all_aucs) / len(all_aucs),\n",
    "    'overall_avg_f1': sum(all_f1s) / len(all_f1s),\n",
    "    'overall_avg_recall': sum(all_recalls) / len(all_recalls),\n",
    "    'overall_avg_f1p' : sum(all_fp1) / len(all_fp1),\n",
    "    'overall_avg_pre' : sum(all_pre) / len(all_pre)\n",
    "}\n",
    "\n",
    "print(average_results_per_cluster)\n",
    "print(\"\\n\")\n",
    "print(overall_avg_results)"
   ]
  },
  {
   "cell_type": "code",
   "execution_count": null,
   "metadata": {},
   "outputs": [],
   "source": []
  }
 ],
 "metadata": {
  "kernelspec": {
   "display_name": "Python 3 (ipykernel)",
   "language": "python",
   "name": "python3"
  },
  "language_info": {
   "codemirror_mode": {
    "name": "ipython",
    "version": 3
   },
   "file_extension": ".py",
   "mimetype": "text/x-python",
   "name": "python",
   "nbconvert_exporter": "python",
   "pygments_lexer": "ipython3",
   "version": "3.9.15"
  }
 },
 "nbformat": 4,
 "nbformat_minor": 2
}
